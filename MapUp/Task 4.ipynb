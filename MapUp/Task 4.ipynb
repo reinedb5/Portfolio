{
 "cells": [
  {
   "cell_type": "code",
   "execution_count": 9,
   "id": "834ac2c3",
   "metadata": {},
   "outputs": [],
   "source": [
    "import pandas as pd"
   ]
  },
  {
   "cell_type": "code",
   "execution_count": 10,
   "id": "46bc1b36",
   "metadata": {},
   "outputs": [],
   "source": [
    "def filter_routes(df) -> list:\n",
    "    # Group by 'route' and calculate the average of 'truck' values\n",
    "    route_avg_truck = df.groupby('route')['truck'].mean()\n",
    "\n",
    "    # Filter routes where the average 'truck' value is greater than 7\n",
    "    filtered_routes = route_avg_truck[route_avg_truck > 7].index.tolist()\n",
    "\n",
    "    # Sort the list of routes\n",
    "    sorted_filtered_routes = sorted(filtered_routes)\n",
    "\n",
    "    return sorted_filtered_routes"
   ]
  },
  {
   "cell_type": "code",
   "execution_count": 11,
   "id": "bf0b9cf6",
   "metadata": {},
   "outputs": [
    {
     "name": "stdout",
     "output_type": "stream",
     "text": [
      "[1, 2, 3, 4, 5, 6, 7, 8, 9, 10]\n"
     ]
    }
   ],
   "source": [
    "df = pd.read_csv('dataset-1.csv')\n",
    "result = filter_routes(df)\n",
    "print(result)"
   ]
  },
  {
   "cell_type": "code",
   "execution_count": null,
   "id": "65640cfa",
   "metadata": {},
   "outputs": [],
   "source": []
  }
 ],
 "metadata": {
  "kernelspec": {
   "display_name": "Python 3 (ipykernel)",
   "language": "python",
   "name": "python3"
  },
  "language_info": {
   "codemirror_mode": {
    "name": "ipython",
    "version": 3
   },
   "file_extension": ".py",
   "mimetype": "text/x-python",
   "name": "python",
   "nbconvert_exporter": "python",
   "pygments_lexer": "ipython3",
   "version": "3.10.9"
  }
 },
 "nbformat": 4,
 "nbformat_minor": 5
}
