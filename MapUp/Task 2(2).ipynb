{
 "cells": [
  {
   "cell_type": "code",
   "execution_count": 16,
   "id": "e97176a2",
   "metadata": {},
   "outputs": [],
   "source": [
    "import pandas as pd"
   ]
  },
  {
   "cell_type": "code",
   "execution_count": 23,
   "id": "b50d81c5",
   "metadata": {},
   "outputs": [],
   "source": [
    "def unroll_distance_matrix(df)->pd.DataFrame():\n",
    "    # Initialize an empty list to store DataFrames\n",
    "    dfs = []\n",
    "\n",
    "    # Iterate over the rows of the distance matrix\n",
    "    for i, row in df.iterrows():\n",
    "        id_start = row['id_start']\n",
    "        id_end = row['id_end']\n",
    "        distance = row['distance']\n",
    "\n",
    "        # Append to the list of DataFrames\n",
    "        dfs.append(pd.DataFrame({'id_start': [id_start], 'id_end': [id_end], 'distance': [distance]}))\n",
    "\n",
    "    # Concatenate all DataFrames into a single DataFrame\n",
    "    unrolled_df = pd.concat(dfs, ignore_index=True)\n",
    "\n",
    "    return unrolled_df"
   ]
  },
  {
   "cell_type": "code",
   "execution_count": 24,
   "id": "faccce80",
   "metadata": {},
   "outputs": [
    {
     "name": "stdout",
     "output_type": "stream",
     "text": [
      "     id_start     id_end  distance\n",
      "0   1001400.0  1001402.0       9.7\n",
      "1   1001402.0  1001404.0      20.2\n",
      "2   1001404.0  1001406.0      16.0\n",
      "3   1001406.0  1001408.0      21.7\n",
      "4   1001408.0  1001410.0      11.1\n",
      "5   1001410.0  1001412.0      15.6\n",
      "6   1001412.0  1001414.0      18.2\n",
      "7   1001414.0  1001416.0      13.2\n",
      "8   1001416.0  1001418.0      13.6\n",
      "9   1001418.0  1001420.0      12.9\n",
      "10  1001420.0  1001422.0       9.6\n",
      "11  1001422.0  1001424.0      11.4\n",
      "12  1001424.0  1001426.0      18.6\n",
      "13  1001426.0  1001428.0      15.8\n",
      "14  1001428.0  1001430.0       8.6\n",
      "15  1001430.0  1001432.0       9.0\n",
      "16  1001432.0  1001434.0       7.9\n",
      "17  1001434.0  1001436.0       4.0\n",
      "18  1001436.0  1001438.0       9.0\n",
      "19  1001436.0  1001437.0       5.0\n",
      "20  1001438.0  1001437.0       4.0\n",
      "21  1001438.0  1001440.0      10.0\n",
      "22  1001440.0  1001442.0       3.9\n",
      "23  1001442.0  1001488.0       4.5\n",
      "24  1001488.0  1004356.0       4.0\n",
      "25  1004356.0  1004354.0       2.0\n",
      "26  1004354.0  1004355.0       2.0\n",
      "27  1004355.0  1001444.0       0.7\n",
      "28  1001444.0  1001446.0       6.6\n",
      "29  1001446.0  1001448.0       9.6\n",
      "30  1001448.0  1001450.0      15.7\n",
      "31  1001450.0  1001452.0       9.9\n",
      "32  1001452.0  1001454.0      11.3\n",
      "33  1001454.0  1001456.0      13.6\n",
      "34  1001456.0  1001458.0       8.9\n",
      "35  1001458.0  1001460.0       5.1\n",
      "36  1001460.0  1001461.0      12.8\n",
      "37  1001460.0  1001462.0      17.9\n",
      "38  1001461.0  1001462.0       5.1\n",
      "39  1001462.0  1001464.0      26.7\n",
      "40  1001464.0  1001466.0       8.5\n",
      "41  1001466.0  1001468.0      10.7\n",
      "42  1001468.0  1001470.0      10.6\n",
      "43  1001470.0  1001472.0      16.0\n"
     ]
    }
   ],
   "source": [
    "df = pd.read_csv('dataset-3.csv')\n",
    "unrolled_df = unroll_distance_matrix(df)\n",
    "print(unrolled_df)"
   ]
  },
  {
   "cell_type": "code",
   "execution_count": null,
   "id": "6ab9182d",
   "metadata": {},
   "outputs": [],
   "source": []
  }
 ],
 "metadata": {
  "kernelspec": {
   "display_name": "Python 3 (ipykernel)",
   "language": "python",
   "name": "python3"
  },
  "language_info": {
   "codemirror_mode": {
    "name": "ipython",
    "version": 3
   },
   "file_extension": ".py",
   "mimetype": "text/x-python",
   "name": "python",
   "nbconvert_exporter": "python",
   "pygments_lexer": "ipython3",
   "version": "3.10.9"
  }
 },
 "nbformat": 4,
 "nbformat_minor": 5
}
