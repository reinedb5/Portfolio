{
 "cells": [
  {
   "cell_type": "code",
   "execution_count": 20,
   "id": "8cf62240",
   "metadata": {},
   "outputs": [],
   "source": [
    "import pandas as pd\n",
    "import numpy as np"
   ]
  },
  {
   "cell_type": "code",
   "execution_count": 21,
   "id": "7325fa30",
   "metadata": {},
   "outputs": [],
   "source": [
    "def generate_car_matrix(df: pd.DataFrame) -> pd.DataFrame:\n",
    "    car_matrix = df.pivot(index='id_1', columns='id_2', values='car')\n",
    "    car_matrix = car_matrix.fillna(0)\n",
    "    np.fill_diagonal(car_matrix.values, 0)\n",
    "    return car_matrix"
   ]
  },
  {
   "cell_type": "code",
   "execution_count": 22,
   "id": "bde0f424",
   "metadata": {},
   "outputs": [],
   "source": [
    "def multiply_matrix(matrix)->pd.DataFrame:\n",
    "    # Apply custom conditions to modify matrix values\n",
    "    modified_matrix = matrix.applymap(lambda x: x * 0.75 if x > 20 else x * 1.25)\n",
    "\n",
    "    # Round the values to 1 decimal place\n",
    "    modified_matrix_rounded = modified_matrix.round(1)\n",
    "\n",
    "    return modified_matrix_rounded"
   ]
  },
  {
   "cell_type": "code",
   "execution_count": 23,
   "id": "d7184087",
   "metadata": {},
   "outputs": [
    {
     "name": "stdout",
     "output_type": "stream",
     "text": [
      "id_2   801   802   803   804   805   806   807   808   809   821   822   823  \\\n",
      "id_1                                                                           \n",
      "801    0.0   3.5   7.5   9.6  14.6  16.8  21.1  24.5  15.8  17.6  18.5  19.9   \n",
      "802    3.5   0.0   4.2   6.5  11.5  13.6  17.9  21.4  23.1  15.7  16.6  17.9   \n",
      "803    7.5   4.2   0.0   2.5   7.5   9.6  13.9  17.4  19.1  22.2  23.6  15.5   \n",
      "804    9.6   6.5   2.5   0.0   5.5   7.6  11.9  15.4  17.1  20.2  21.6  23.9   \n",
      "805   14.6  11.5   7.5   5.5   0.0   2.5   6.8  10.2  12.0  15.0  16.5  18.8   \n",
      "806   16.8  13.6   9.6   7.6   2.5   0.0   4.8   8.2  10.0  13.0  14.5  16.8   \n",
      "807   21.1  17.9  13.9  11.9   6.8   4.8   0.0   3.6   5.4   8.5  10.0  12.3   \n",
      "808   24.5  21.4  17.4  15.4  10.2   8.2   3.6   0.0   2.1   5.2   6.6   8.9   \n",
      "809   15.8  23.1  19.1  17.1  12.0  10.0   5.4   2.1   0.0   3.6   5.1   7.4   \n",
      "821   17.6  15.7  22.2  20.2  15.0  13.0   8.5   5.2   3.6   0.0   2.2   4.6   \n",
      "822   18.5  16.6  23.6  21.6  16.5  14.5  10.0   6.6   5.1   2.2   0.0   2.8   \n",
      "823   19.9  17.9  15.5  23.9  18.8  16.8  12.3   8.9   7.4   4.6   2.8   0.0   \n",
      "824   20.9  19.0  16.6  15.4  20.5   9.8  14.0  10.6   9.2   6.3   4.5   2.2   \n",
      "825   21.8  19.9  17.5  16.3  22.0  20.0  15.5  12.1  10.6   7.8   5.9   3.7   \n",
      "826   23.2  21.2  18.8  17.6  24.2  22.2  17.7  14.3  12.8  10.0   8.2   5.9   \n",
      "827   24.4  22.4  20.0  18.8  15.8  24.3  19.8  16.4  14.9  11.8  10.0   7.7   \n",
      "829   27.2  25.3  22.9  21.7  18.6  17.4  24.5  21.2  19.7  16.6  14.8  12.5   \n",
      "830   28.7  26.8  24.4  23.2  20.1  18.9  16.2  23.6  22.1  19.0  17.2  14.9   \n",
      "831   29.4  27.5  25.1  23.9  20.8  19.6  16.9  24.8  23.3  20.2  18.4  16.1   \n",
      "\n",
      "id_2   824   825   826   827   829   830   831  \n",
      "id_1                                            \n",
      "801   20.9  21.8  23.2  24.4  27.2  28.7  29.4  \n",
      "802   19.0  19.9  21.2  22.4  25.3  26.8  27.5  \n",
      "803   16.6  17.5  18.8  20.0  22.9  24.4  25.1  \n",
      "804   15.4  16.3  17.6  18.8  21.7  23.2  23.9  \n",
      "805   20.5  22.0  24.2  15.8  18.6  20.1  20.8  \n",
      "806   18.5  20.0  22.2  24.3  17.4  18.9  19.6  \n",
      "807   14.0  15.5  17.7  19.8  24.5  16.2  16.9  \n",
      "808   10.6  12.1  14.3  16.4  21.2  23.6  24.8  \n",
      "809    9.2  10.6  12.8  14.9  19.7  22.1  23.3  \n",
      "821    6.3   7.8  10.0  11.8  16.6  19.0  20.2  \n",
      "822    4.5   5.9   8.2  10.0  14.8  17.2  18.4  \n",
      "823    2.2   3.7   5.9   7.7  12.5  14.9  16.1  \n",
      "824    0.0   2.1   4.4   6.2  11.0  13.3  14.6  \n",
      "825    2.1   0.0   2.8   4.6   9.3  11.7  12.9  \n",
      "826    4.4   2.8   0.0   2.6   7.3   9.6  10.9  \n",
      "827    6.2   4.6   2.6   0.0   5.2   7.6   8.8  \n",
      "829   16.0   9.3   7.3   5.2   0.0   3.0   4.2  \n",
      "830   13.3   0.0   9.6   7.6   3.0   0.0   1.7  \n",
      "831   14.6  12.9  10.9   8.8   4.2   1.7   0.0  \n"
     ]
    }
   ],
   "source": [
    "df = pd.read_csv('dataset-1.csv')\n",
    "car_matrix = generate_car_matrix(df)\n",
    "result_matrix = multiply_matrix(car_matrix)\n",
    "print(result_matrix)"
   ]
  },
  {
   "cell_type": "code",
   "execution_count": null,
   "id": "fc7ebc17",
   "metadata": {},
   "outputs": [],
   "source": []
  }
 ],
 "metadata": {
  "kernelspec": {
   "display_name": "Python 3 (ipykernel)",
   "language": "python",
   "name": "python3"
  },
  "language_info": {
   "codemirror_mode": {
    "name": "ipython",
    "version": 3
   },
   "file_extension": ".py",
   "mimetype": "text/x-python",
   "name": "python",
   "nbconvert_exporter": "python",
   "pygments_lexer": "ipython3",
   "version": "3.10.9"
  }
 },
 "nbformat": 4,
 "nbformat_minor": 5
}
