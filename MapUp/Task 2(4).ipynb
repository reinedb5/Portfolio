{
 "cells": [
  {
   "cell_type": "code",
   "execution_count": 12,
   "id": "cf3b5bbc",
   "metadata": {},
   "outputs": [],
   "source": [
    "import pandas as pd"
   ]
  },
  {
   "cell_type": "code",
   "execution_count": 13,
   "id": "347c50a9",
   "metadata": {},
   "outputs": [],
   "source": [
    "def unroll_distance_matrix(df)->pd.DataFrame():\n",
    "    # Initialize an empty list to store DataFrames\n",
    "    dfs = []\n",
    "\n",
    "    # Iterate over the rows of the distance matrix\n",
    "    for i, row in df.iterrows():\n",
    "        id_start = row['id_start']\n",
    "        id_end = row['id_end']\n",
    "        distance = row['distance']\n",
    "\n",
    "        # Append to the list of DataFrames\n",
    "        dfs.append(pd.DataFrame({'id_start': [id_start], 'id_end': [id_end], 'distance': [distance]}))\n",
    "\n",
    "    # Concatenate all DataFrames into a single DataFrame\n",
    "    unrolled_df = pd.concat(dfs, ignore_index=True)\n",
    "\n",
    "    return unrolled_df"
   ]
  },
  {
   "cell_type": "code",
   "execution_count": 14,
   "id": "17338eb5",
   "metadata": {},
   "outputs": [],
   "source": [
    "def calculate_toll_rate(df)->pd.DataFrame():\n",
    "    # Define rate coefficients for each vehicle type\n",
    "    rate_coefficients = {'moto': 0.8, 'car': 1.2, 'rv': 1.5, 'bus': 2.2, 'truck': 3.6}\n",
    "\n",
    "    # Initialize new columns for toll rates\n",
    "    for vehicle_type, rate_coefficient in rate_coefficients.items():\n",
    "        df[vehicle_type] = df['distance'] * rate_coefficient\n",
    "\n",
    "    return df"
   ]
  },
  {
   "cell_type": "code",
   "execution_count": 15,
   "id": "ff50103b",
   "metadata": {},
   "outputs": [
    {
     "name": "stdout",
     "output_type": "stream",
     "text": [
      "     id_start     id_end  distance   moto    car     rv    bus  truck\n",
      "0   1001400.0  1001402.0       9.7   7.76  11.64  14.55  21.34  34.92\n",
      "1   1001402.0  1001404.0      20.2  16.16  24.24  30.30  44.44  72.72\n",
      "2   1001404.0  1001406.0      16.0  12.80  19.20  24.00  35.20  57.60\n",
      "3   1001406.0  1001408.0      21.7  17.36  26.04  32.55  47.74  78.12\n",
      "4   1001408.0  1001410.0      11.1   8.88  13.32  16.65  24.42  39.96\n",
      "5   1001410.0  1001412.0      15.6  12.48  18.72  23.40  34.32  56.16\n",
      "6   1001412.0  1001414.0      18.2  14.56  21.84  27.30  40.04  65.52\n",
      "7   1001414.0  1001416.0      13.2  10.56  15.84  19.80  29.04  47.52\n",
      "8   1001416.0  1001418.0      13.6  10.88  16.32  20.40  29.92  48.96\n",
      "9   1001418.0  1001420.0      12.9  10.32  15.48  19.35  28.38  46.44\n",
      "10  1001420.0  1001422.0       9.6   7.68  11.52  14.40  21.12  34.56\n",
      "11  1001422.0  1001424.0      11.4   9.12  13.68  17.10  25.08  41.04\n",
      "12  1001424.0  1001426.0      18.6  14.88  22.32  27.90  40.92  66.96\n",
      "13  1001426.0  1001428.0      15.8  12.64  18.96  23.70  34.76  56.88\n",
      "14  1001428.0  1001430.0       8.6   6.88  10.32  12.90  18.92  30.96\n",
      "15  1001430.0  1001432.0       9.0   7.20  10.80  13.50  19.80  32.40\n",
      "16  1001432.0  1001434.0       7.9   6.32   9.48  11.85  17.38  28.44\n",
      "17  1001434.0  1001436.0       4.0   3.20   4.80   6.00   8.80  14.40\n",
      "18  1001436.0  1001438.0       9.0   7.20  10.80  13.50  19.80  32.40\n",
      "19  1001436.0  1001437.0       5.0   4.00   6.00   7.50  11.00  18.00\n",
      "20  1001438.0  1001437.0       4.0   3.20   4.80   6.00   8.80  14.40\n",
      "21  1001438.0  1001440.0      10.0   8.00  12.00  15.00  22.00  36.00\n",
      "22  1001440.0  1001442.0       3.9   3.12   4.68   5.85   8.58  14.04\n",
      "23  1001442.0  1001488.0       4.5   3.60   5.40   6.75   9.90  16.20\n",
      "24  1001488.0  1004356.0       4.0   3.20   4.80   6.00   8.80  14.40\n",
      "25  1004356.0  1004354.0       2.0   1.60   2.40   3.00   4.40   7.20\n",
      "26  1004354.0  1004355.0       2.0   1.60   2.40   3.00   4.40   7.20\n",
      "27  1004355.0  1001444.0       0.7   0.56   0.84   1.05   1.54   2.52\n",
      "28  1001444.0  1001446.0       6.6   5.28   7.92   9.90  14.52  23.76\n",
      "29  1001446.0  1001448.0       9.6   7.68  11.52  14.40  21.12  34.56\n",
      "30  1001448.0  1001450.0      15.7  12.56  18.84  23.55  34.54  56.52\n",
      "31  1001450.0  1001452.0       9.9   7.92  11.88  14.85  21.78  35.64\n",
      "32  1001452.0  1001454.0      11.3   9.04  13.56  16.95  24.86  40.68\n",
      "33  1001454.0  1001456.0      13.6  10.88  16.32  20.40  29.92  48.96\n",
      "34  1001456.0  1001458.0       8.9   7.12  10.68  13.35  19.58  32.04\n",
      "35  1001458.0  1001460.0       5.1   4.08   6.12   7.65  11.22  18.36\n",
      "36  1001460.0  1001461.0      12.8  10.24  15.36  19.20  28.16  46.08\n",
      "37  1001460.0  1001462.0      17.9  14.32  21.48  26.85  39.38  64.44\n",
      "38  1001461.0  1001462.0       5.1   4.08   6.12   7.65  11.22  18.36\n",
      "39  1001462.0  1001464.0      26.7  21.36  32.04  40.05  58.74  96.12\n",
      "40  1001464.0  1001466.0       8.5   6.80  10.20  12.75  18.70  30.60\n",
      "41  1001466.0  1001468.0      10.7   8.56  12.84  16.05  23.54  38.52\n",
      "42  1001468.0  1001470.0      10.6   8.48  12.72  15.90  23.32  38.16\n",
      "43  1001470.0  1001472.0      16.0  12.80  19.20  24.00  35.20  57.60\n"
     ]
    }
   ],
   "source": [
    "df = pd.read_csv('dataset-3.csv')\n",
    "unrolled_df = unroll_distance_matrix(df)\n",
    "df_with_toll_rates = calculate_toll_rate(unrolled_df)\n",
    "print(df_with_toll_rates)"
   ]
  }
 ],
 "metadata": {
  "kernelspec": {
   "display_name": "Python 3 (ipykernel)",
   "language": "python",
   "name": "python3"
  },
  "language_info": {
   "codemirror_mode": {
    "name": "ipython",
    "version": 3
   },
   "file_extension": ".py",
   "mimetype": "text/x-python",
   "name": "python",
   "nbconvert_exporter": "python",
   "pygments_lexer": "ipython3",
   "version": "3.10.9"
  }
 },
 "nbformat": 4,
 "nbformat_minor": 5
}
