{
 "cells": [
  {
   "cell_type": "code",
   "execution_count": 30,
   "id": "53087949",
   "metadata": {},
   "outputs": [],
   "source": [
    "import pandas as pd"
   ]
  },
  {
   "cell_type": "code",
   "execution_count": 31,
   "id": "f6491d85",
   "metadata": {},
   "outputs": [],
   "source": [
    "def unroll_distance_matrix(df)->pd.DataFrame():\n",
    "    # Initialize an empty list to store DataFrames\n",
    "    dfs = []\n",
    "\n",
    "    # Iterate over the rows of the distance matrix\n",
    "    for i, row in df.iterrows():\n",
    "        id_start = row.name  # Row index is the id_start\n",
    "        for id_end, distance in row.items():\n",
    "            if id_start != id_end:  # Exclude same id_start to id_end\n",
    "                # Append to the list of DataFrames\n",
    "                dfs.append(pd.DataFrame({'id_start': [id_start], 'id_end': [id_end], 'distance': [distance]}))\n",
    "\n",
    "    # Concatenate all DataFrames into a single DataFrame\n",
    "    unrolled_df = pd.concat(dfs, ignore_index=True)\n",
    "\n",
    "    return unrolled_df"
   ]
  },
  {
   "cell_type": "code",
   "execution_count": 32,
   "id": "ebca3f44",
   "metadata": {},
   "outputs": [],
   "source": [
    "def find_ids_within_ten_percentage_threshold(df, reference_id)->pd.DataFrame():\n",
    "    # Initialize an empty list to store DataFrames\n",
    "    dfs = []\n",
    "\n",
    "    # Iterate over the rows of the distance matrix\n",
    "    for id_start in df.index:\n",
    "        for id_end, distance in df.loc[id_start].items():\n",
    "            if id_start != id_end:  # Exclude same id_start to id_end\n",
    "                # Append to the list of DataFrames\n",
    "                dfs.append(pd.DataFrame({'id_start': [id_start], 'id_end': [id_end], 'distance': [distance]}))\n",
    "\n",
    "    # Concatenate all DataFrames into a single DataFrame\n",
    "    unrolled_df = pd.concat(dfs, ignore_index=True)\n",
    "\n",
    "    return unrolled_df"
   ]
  },
  {
   "cell_type": "code",
   "execution_count": 33,
   "id": "7512c113",
   "metadata": {},
   "outputs": [
    {
     "name": "stdout",
     "output_type": "stream",
     "text": [
      "Empty DataFrame\n",
      "Columns: [id_start]\n",
      "Index: []\n"
     ]
    }
   ],
   "source": [
    "df = pd.read_csv('dataset-3.csv')\n",
    "unrolled_df = unroll_distance_matrix(df)\n",
    "result_df = find_ids_within_ten_percentage_threshold(unrolled_df, reference_id=1001418)\n",
    "print(result_df)"
   ]
  },
  {
   "cell_type": "code",
   "execution_count": null,
   "id": "b7ee2be4",
   "metadata": {},
   "outputs": [],
   "source": []
  }
 ],
 "metadata": {
  "kernelspec": {
   "display_name": "Python 3 (ipykernel)",
   "language": "python",
   "name": "python3"
  },
  "language_info": {
   "codemirror_mode": {
    "name": "ipython",
    "version": 3
   },
   "file_extension": ".py",
   "mimetype": "text/x-python",
   "name": "python",
   "nbconvert_exporter": "python",
   "pygments_lexer": "ipython3",
   "version": "3.10.9"
  }
 },
 "nbformat": 4,
 "nbformat_minor": 5
}
