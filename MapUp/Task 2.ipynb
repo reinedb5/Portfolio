{
 "cells": [
  {
   "cell_type": "code",
   "execution_count": 41,
   "id": "2ce9cc1f",
   "metadata": {},
   "outputs": [],
   "source": [
    "import pandas as pd"
   ]
  },
  {
   "cell_type": "code",
   "execution_count": 42,
   "id": "07102e93",
   "metadata": {},
   "outputs": [],
   "source": [
    "def get_type_count(df)->dict:\n",
    "    df['car_type'] = pd.cut(df['car'],\n",
    "                            bins=[float('-inf'), 15, 25, float('inf')],\n",
    "                            labels=['low', 'medium', 'high'])\n",
    "     # Count of occurrences for each 'car_type' category\n",
    "    type_counts = df['car_type'].value_counts().to_dict()\n",
    "    # Sorting the dictionary alphabetically based on keys\n",
    "    sorted_type_counts = dict(sorted(type_counts.items()))\n",
    "    return sorted_type_counts"
   ]
  },
  {
   "cell_type": "code",
   "execution_count": 43,
   "id": "6fc8d8e6",
   "metadata": {},
   "outputs": [
    {
     "name": "stdout",
     "output_type": "stream",
     "text": [
      "{'high': 56, 'low': 196, 'medium': 89}\n"
     ]
    }
   ],
   "source": [
    "df = pd.read_csv('dataset-1.csv')\n",
    "result = get_type_count(df)\n",
    "print(result)"
   ]
  }
 ],
 "metadata": {
  "kernelspec": {
   "display_name": "Python 3 (ipykernel)",
   "language": "python",
   "name": "python3"
  },
  "language_info": {
   "codemirror_mode": {
    "name": "ipython",
    "version": 3
   },
   "file_extension": ".py",
   "mimetype": "text/x-python",
   "name": "python",
   "nbconvert_exporter": "python",
   "pygments_lexer": "ipython3",
   "version": "3.10.9"
  }
 },
 "nbformat": 4,
 "nbformat_minor": 5
}
